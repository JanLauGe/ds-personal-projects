{
 "cells": [
  {
   "cell_type": "code",
   "execution_count": 1,
   "metadata": {},
   "outputs": [],
   "source": [
    "import os\n",
    "import sys\n",
    "import numpy as np\n",
    "import pandas as pd\n",
    "import matplotlib.pyplot as plt\n",
    "from IPython.display import HTML"
   ]
  },
  {
   "cell_type": "code",
   "execution_count": 2,
   "metadata": {},
   "outputs": [],
   "source": [
    "# append fast.ai local folder to system path so modules can be imported\n",
    "sys.path.append('/home/paperspace/fastai/')\n",
    "# automatically reload updated sub-modules\n",
    "%reload_ext autoreload\n",
    "%autoreload 2\n",
    "%matplotlib inline\n",
    "\n",
    "from fastai.structured import *\n",
    "from fastai.column_data import *"
   ]
  },
  {
   "cell_type": "code",
   "execution_count": 3,
   "metadata": {},
   "outputs": [],
   "source": [
    "PATH = '~/data/avito-demand-prediction/'"
   ]
  },
  {
   "cell_type": "markdown",
   "metadata": {},
   "source": [
    "### Data Preparation\n",
    "Loading and transforming data as required for fast.ai model"
   ]
  },
  {
   "cell_type": "code",
   "execution_count": 4,
   "metadata": {},
   "outputs": [],
   "source": [
    "df_train = pd.read_csv(f'{PATH}train.csv')\n",
    "df_test = pd.read_csv(f'{PATH}test.csv')"
   ]
  },
  {
   "cell_type": "code",
   "execution_count": 5,
   "metadata": {},
   "outputs": [],
   "source": [
    "# get features from date value\n",
    "add_datepart(df_train, 'activation_date', drop=False)\n",
    "add_datepart(df_test, 'activation_date', drop=False)\n",
    "\n",
    "# select relevant variables\n",
    "vars_cont = ['price','item_seq_number','deal_probability']\n",
    "vars_cat = ['region','city','parent_category_name','category_name',\n",
    "            'user_type','image_top_1','param_1','param_2','param_3',\n",
    "            'activation_Year','activation_Month','activation_Week',\n",
    "            'activation_Day','activation_Dayofweek','activation_Dayofyear']\n",
    "vars_other = ['item_id','user_id','image','title','description']\n",
    "\n",
    "# only keep these vars for now\n",
    "df_train = df_train[vars_cat + vars_cont]\n",
    "for v in vars_cat: df_train[v] = df_train[v].astype('category').cat.as_ordered()\n",
    "for v in vars_cont: df_train[v] = df_train[v].astype('float32')\n",
    "\n",
    "# same process on test dataset\n",
    "df_test = df_test[vars_cat + vars_cont[0:-1]]\n",
    "for v in vars_cat: df_test[v] = df_test[v].astype('category').cat.as_ordered()\n",
    "for v in vars_cont[0:1]: df_test[v] = df_test[v].astype('float32')\n",
    "# in test set, y var needs to be set to zero manually\n",
    "df_test['deal_probability'] = 0\n",
    "\n",
    "## combine train and test\n",
    "#df = pd.concat([df_train, df_test])\n",
    "## only keep these vars for now\n",
    "#df = df[vars_cat + vars_cont]"
   ]
  },
  {
   "cell_type": "code",
   "execution_count": 6,
   "metadata": {},
   "outputs": [
    {
     "data": {
      "text/html": [
       "<div>\n",
       "<style scoped>\n",
       "    .dataframe tbody tr th:only-of-type {\n",
       "        vertical-align: middle;\n",
       "    }\n",
       "\n",
       "    .dataframe tbody tr th {\n",
       "        vertical-align: top;\n",
       "    }\n",
       "\n",
       "    .dataframe thead th {\n",
       "        text-align: right;\n",
       "    }\n",
       "</style>\n",
       "<table border=\"1\" class=\"dataframe\">\n",
       "  <thead>\n",
       "    <tr style=\"text-align: right;\">\n",
       "      <th></th>\n",
       "      <th>region</th>\n",
       "      <th>city</th>\n",
       "      <th>parent_category_name</th>\n",
       "      <th>category_name</th>\n",
       "      <th>user_type</th>\n",
       "      <th>image_top_1</th>\n",
       "      <th>param_1</th>\n",
       "      <th>param_2</th>\n",
       "      <th>param_3</th>\n",
       "      <th>activation_Year</th>\n",
       "      <th>activation_Month</th>\n",
       "      <th>activation_Week</th>\n",
       "      <th>activation_Day</th>\n",
       "      <th>activation_Dayofweek</th>\n",
       "      <th>activation_Dayofyear</th>\n",
       "      <th>price</th>\n",
       "      <th>item_seq_number</th>\n",
       "      <th>deal_probability</th>\n",
       "    </tr>\n",
       "  </thead>\n",
       "  <tbody>\n",
       "    <tr>\n",
       "      <th>0</th>\n",
       "      <td>Свердловская область</td>\n",
       "      <td>Екатеринбург</td>\n",
       "      <td>Личные вещи</td>\n",
       "      <td>Товары для детей и игрушки</td>\n",
       "      <td>Private</td>\n",
       "      <td>1008.0</td>\n",
       "      <td>Постельные принадлежности</td>\n",
       "      <td>NaN</td>\n",
       "      <td>NaN</td>\n",
       "      <td>2017</td>\n",
       "      <td>3</td>\n",
       "      <td>13</td>\n",
       "      <td>28</td>\n",
       "      <td>1</td>\n",
       "      <td>87</td>\n",
       "      <td>400.0</td>\n",
       "      <td>2.0</td>\n",
       "      <td>0.12789</td>\n",
       "    </tr>\n",
       "    <tr>\n",
       "      <th>1</th>\n",
       "      <td>Самарская область</td>\n",
       "      <td>Самара</td>\n",
       "      <td>Для дома и дачи</td>\n",
       "      <td>Мебель и интерьер</td>\n",
       "      <td>Private</td>\n",
       "      <td>692.0</td>\n",
       "      <td>Другое</td>\n",
       "      <td>NaN</td>\n",
       "      <td>NaN</td>\n",
       "      <td>2017</td>\n",
       "      <td>3</td>\n",
       "      <td>12</td>\n",
       "      <td>26</td>\n",
       "      <td>6</td>\n",
       "      <td>85</td>\n",
       "      <td>3000.0</td>\n",
       "      <td>19.0</td>\n",
       "      <td>0.00000</td>\n",
       "    </tr>\n",
       "    <tr>\n",
       "      <th>2</th>\n",
       "      <td>Ростовская область</td>\n",
       "      <td>Ростов-на-Дону</td>\n",
       "      <td>Бытовая электроника</td>\n",
       "      <td>Аудио и видео</td>\n",
       "      <td>Private</td>\n",
       "      <td>3032.0</td>\n",
       "      <td>Видео, DVD и Blu-ray плееры</td>\n",
       "      <td>NaN</td>\n",
       "      <td>NaN</td>\n",
       "      <td>2017</td>\n",
       "      <td>3</td>\n",
       "      <td>12</td>\n",
       "      <td>20</td>\n",
       "      <td>0</td>\n",
       "      <td>79</td>\n",
       "      <td>4000.0</td>\n",
       "      <td>9.0</td>\n",
       "      <td>0.43177</td>\n",
       "    </tr>\n",
       "    <tr>\n",
       "      <th>3</th>\n",
       "      <td>Татарстан</td>\n",
       "      <td>Набережные Челны</td>\n",
       "      <td>Личные вещи</td>\n",
       "      <td>Товары для детей и игрушки</td>\n",
       "      <td>Company</td>\n",
       "      <td>796.0</td>\n",
       "      <td>Автомобильные кресла</td>\n",
       "      <td>NaN</td>\n",
       "      <td>NaN</td>\n",
       "      <td>2017</td>\n",
       "      <td>3</td>\n",
       "      <td>12</td>\n",
       "      <td>25</td>\n",
       "      <td>5</td>\n",
       "      <td>84</td>\n",
       "      <td>2200.0</td>\n",
       "      <td>286.0</td>\n",
       "      <td>0.80323</td>\n",
       "    </tr>\n",
       "    <tr>\n",
       "      <th>4</th>\n",
       "      <td>Волгоградская область</td>\n",
       "      <td>Волгоград</td>\n",
       "      <td>Транспорт</td>\n",
       "      <td>Автомобили</td>\n",
       "      <td>Private</td>\n",
       "      <td>2264.0</td>\n",
       "      <td>С пробегом</td>\n",
       "      <td>ВАЗ (LADA)</td>\n",
       "      <td>2110</td>\n",
       "      <td>2017</td>\n",
       "      <td>3</td>\n",
       "      <td>11</td>\n",
       "      <td>16</td>\n",
       "      <td>3</td>\n",
       "      <td>75</td>\n",
       "      <td>40000.0</td>\n",
       "      <td>3.0</td>\n",
       "      <td>0.20797</td>\n",
       "    </tr>\n",
       "  </tbody>\n",
       "</table>\n",
       "</div>"
      ],
      "text/plain": [
       "                  region              city parent_category_name  \\\n",
       "0   Свердловская область      Екатеринбург          Личные вещи   \n",
       "1      Самарская область            Самара      Для дома и дачи   \n",
       "2     Ростовская область    Ростов-на-Дону  Бытовая электроника   \n",
       "3              Татарстан  Набережные Челны          Личные вещи   \n",
       "4  Волгоградская область         Волгоград            Транспорт   \n",
       "\n",
       "                category_name user_type image_top_1  \\\n",
       "0  Товары для детей и игрушки   Private      1008.0   \n",
       "1           Мебель и интерьер   Private       692.0   \n",
       "2               Аудио и видео   Private      3032.0   \n",
       "3  Товары для детей и игрушки   Company       796.0   \n",
       "4                  Автомобили   Private      2264.0   \n",
       "\n",
       "                       param_1     param_2 param_3 activation_Year  \\\n",
       "0    Постельные принадлежности         NaN     NaN            2017   \n",
       "1                       Другое         NaN     NaN            2017   \n",
       "2  Видео, DVD и Blu-ray плееры         NaN     NaN            2017   \n",
       "3         Автомобильные кресла         NaN     NaN            2017   \n",
       "4                   С пробегом  ВАЗ (LADA)    2110            2017   \n",
       "\n",
       "  activation_Month activation_Week activation_Day activation_Dayofweek  \\\n",
       "0                3              13             28                    1   \n",
       "1                3              12             26                    6   \n",
       "2                3              12             20                    0   \n",
       "3                3              12             25                    5   \n",
       "4                3              11             16                    3   \n",
       "\n",
       "  activation_Dayofyear    price  item_seq_number  deal_probability  \n",
       "0                   87    400.0              2.0           0.12789  \n",
       "1                   85   3000.0             19.0           0.00000  \n",
       "2                   79   4000.0              9.0           0.43177  \n",
       "3                   84   2200.0            286.0           0.80323  \n",
       "4                   75  40000.0              3.0           0.20797  "
      ]
     },
     "execution_count": 6,
     "metadata": {},
     "output_type": "execute_result"
    }
   ],
   "source": [
    "df_train.head()"
   ]
  },
  {
   "cell_type": "code",
   "execution_count": 7,
   "metadata": {},
   "outputs": [
    {
     "data": {
      "text/html": [
       "<div>\n",
       "<style scoped>\n",
       "    .dataframe tbody tr th:only-of-type {\n",
       "        vertical-align: middle;\n",
       "    }\n",
       "\n",
       "    .dataframe tbody tr th {\n",
       "        vertical-align: top;\n",
       "    }\n",
       "\n",
       "    .dataframe thead th {\n",
       "        text-align: right;\n",
       "    }\n",
       "</style>\n",
       "<table border=\"1\" class=\"dataframe\">\n",
       "  <thead>\n",
       "    <tr style=\"text-align: right;\">\n",
       "      <th></th>\n",
       "      <th>region</th>\n",
       "      <th>city</th>\n",
       "      <th>parent_category_name</th>\n",
       "      <th>category_name</th>\n",
       "      <th>user_type</th>\n",
       "      <th>image_top_1</th>\n",
       "      <th>param_1</th>\n",
       "      <th>param_2</th>\n",
       "      <th>param_3</th>\n",
       "      <th>activation_Year</th>\n",
       "      <th>activation_Month</th>\n",
       "      <th>activation_Week</th>\n",
       "      <th>activation_Day</th>\n",
       "      <th>activation_Dayofweek</th>\n",
       "      <th>activation_Dayofyear</th>\n",
       "      <th>price</th>\n",
       "      <th>item_seq_number</th>\n",
       "      <th>deal_probability</th>\n",
       "    </tr>\n",
       "  </thead>\n",
       "  <tbody>\n",
       "    <tr>\n",
       "      <th>0</th>\n",
       "      <td>Волгоградская область</td>\n",
       "      <td>Волгоград</td>\n",
       "      <td>Личные вещи</td>\n",
       "      <td>Детская одежда и обувь</td>\n",
       "      <td>Private</td>\n",
       "      <td>2020.0</td>\n",
       "      <td>Для мальчиков</td>\n",
       "      <td>Обувь</td>\n",
       "      <td>25</td>\n",
       "      <td>2017</td>\n",
       "      <td>4</td>\n",
       "      <td>16</td>\n",
       "      <td>18</td>\n",
       "      <td>1</td>\n",
       "      <td>108</td>\n",
       "      <td>NaN</td>\n",
       "      <td>66</td>\n",
       "      <td>0</td>\n",
       "    </tr>\n",
       "    <tr>\n",
       "      <th>1</th>\n",
       "      <td>Свердловская область</td>\n",
       "      <td>Нижняя Тура</td>\n",
       "      <td>Хобби и отдых</td>\n",
       "      <td>Велосипеды</td>\n",
       "      <td>Private</td>\n",
       "      <td>NaN</td>\n",
       "      <td>Дорожные</td>\n",
       "      <td>NaN</td>\n",
       "      <td>NaN</td>\n",
       "      <td>2017</td>\n",
       "      <td>4</td>\n",
       "      <td>15</td>\n",
       "      <td>16</td>\n",
       "      <td>6</td>\n",
       "      <td>106</td>\n",
       "      <td>3000.0</td>\n",
       "      <td>4</td>\n",
       "      <td>0</td>\n",
       "    </tr>\n",
       "    <tr>\n",
       "      <th>2</th>\n",
       "      <td>Новосибирская область</td>\n",
       "      <td>Бердск</td>\n",
       "      <td>Бытовая электроника</td>\n",
       "      <td>Аудио и видео</td>\n",
       "      <td>Private</td>\n",
       "      <td>2960.0</td>\n",
       "      <td>Телевизоры и проекторы</td>\n",
       "      <td>NaN</td>\n",
       "      <td>NaN</td>\n",
       "      <td>2017</td>\n",
       "      <td>4</td>\n",
       "      <td>16</td>\n",
       "      <td>17</td>\n",
       "      <td>0</td>\n",
       "      <td>107</td>\n",
       "      <td>15000.0</td>\n",
       "      <td>15</td>\n",
       "      <td>0</td>\n",
       "    </tr>\n",
       "    <tr>\n",
       "      <th>3</th>\n",
       "      <td>Саратовская область</td>\n",
       "      <td>Саратов</td>\n",
       "      <td>Для дома и дачи</td>\n",
       "      <td>Бытовая техника</td>\n",
       "      <td>Private</td>\n",
       "      <td>NaN</td>\n",
       "      <td>Для кухни</td>\n",
       "      <td>Вытяжки</td>\n",
       "      <td>NaN</td>\n",
       "      <td>2017</td>\n",
       "      <td>4</td>\n",
       "      <td>16</td>\n",
       "      <td>17</td>\n",
       "      <td>0</td>\n",
       "      <td>107</td>\n",
       "      <td>4500.0</td>\n",
       "      <td>70</td>\n",
       "      <td>0</td>\n",
       "    </tr>\n",
       "    <tr>\n",
       "      <th>4</th>\n",
       "      <td>Оренбургская область</td>\n",
       "      <td>Бузулук</td>\n",
       "      <td>Личные вещи</td>\n",
       "      <td>Товары для детей и игрушки</td>\n",
       "      <td>Private</td>\n",
       "      <td>1002.0</td>\n",
       "      <td>Детские коляски</td>\n",
       "      <td>NaN</td>\n",
       "      <td>NaN</td>\n",
       "      <td>2017</td>\n",
       "      <td>4</td>\n",
       "      <td>15</td>\n",
       "      <td>15</td>\n",
       "      <td>5</td>\n",
       "      <td>105</td>\n",
       "      <td>4900.0</td>\n",
       "      <td>15</td>\n",
       "      <td>0</td>\n",
       "    </tr>\n",
       "  </tbody>\n",
       "</table>\n",
       "</div>"
      ],
      "text/plain": [
       "                  region         city parent_category_name  \\\n",
       "0  Волгоградская область    Волгоград          Личные вещи   \n",
       "1   Свердловская область  Нижняя Тура        Хобби и отдых   \n",
       "2  Новосибирская область       Бердск  Бытовая электроника   \n",
       "3    Саратовская область      Саратов      Для дома и дачи   \n",
       "4   Оренбургская область      Бузулук          Личные вещи   \n",
       "\n",
       "                category_name user_type image_top_1                 param_1  \\\n",
       "0      Детская одежда и обувь   Private      2020.0           Для мальчиков   \n",
       "1                  Велосипеды   Private         NaN                Дорожные   \n",
       "2               Аудио и видео   Private      2960.0  Телевизоры и проекторы   \n",
       "3             Бытовая техника   Private         NaN               Для кухни   \n",
       "4  Товары для детей и игрушки   Private      1002.0         Детские коляски   \n",
       "\n",
       "   param_2 param_3 activation_Year activation_Month activation_Week  \\\n",
       "0    Обувь      25            2017                4              16   \n",
       "1      NaN     NaN            2017                4              15   \n",
       "2      NaN     NaN            2017                4              16   \n",
       "3  Вытяжки     NaN            2017                4              16   \n",
       "4      NaN     NaN            2017                4              15   \n",
       "\n",
       "  activation_Day activation_Dayofweek activation_Dayofyear    price  \\\n",
       "0             18                    1                  108      NaN   \n",
       "1             16                    6                  106   3000.0   \n",
       "2             17                    0                  107  15000.0   \n",
       "3             17                    0                  107   4500.0   \n",
       "4             15                    5                  105   4900.0   \n",
       "\n",
       "   item_seq_number  deal_probability  \n",
       "0               66                 0  \n",
       "1                4                 0  \n",
       "2               15                 0  \n",
       "3               70                 0  \n",
       "4               15                 0  "
      ]
     },
     "execution_count": 7,
     "metadata": {},
     "output_type": "execute_result"
    }
   ],
   "source": [
    "df_test.head()"
   ]
  },
  {
   "cell_type": "code",
   "execution_count": 8,
   "metadata": {},
   "outputs": [],
   "source": [
    "# get cardinality of categorical variables\n",
    "sz_cat = [(c, len(df_train[c].cat.categories)+1) for c in vars_cat]\n",
    "# determine suitable embedding matrix sizes\n",
    "sz_emb = [(c, min(50, (c+1)//2)) for _,c in sz_cat]"
   ]
  },
  {
   "cell_type": "code",
   "execution_count": 9,
   "metadata": {},
   "outputs": [],
   "source": [
    "# process training data\n",
    "X, y, nas, mapper = proc_df(df_train, 'deal_probability', do_scale=True)\n",
    "# same for test data but supply mapper and na_dict from train data\n",
    "X_test, y_test, nas, mapper = proc_df(df_test, 'deal_probability', do_scale=True, mapper=mapper, na_dict=nas)"
   ]
  },
  {
   "cell_type": "code",
   "execution_count": 10,
   "metadata": {},
   "outputs": [],
   "source": [
    "# create validation set index\n",
    "np.random.seed(1234)\n",
    "val_ratio = 0.25\n",
    "val_size = int(len(X) * val_ratio)\n",
    "val_idx = list(np.random.choice(a = range(0, len(X)), size=val_size, replace=False))"
   ]
  },
  {
   "cell_type": "code",
   "execution_count": 11,
   "metadata": {},
   "outputs": [],
   "source": [
    "# make data generator\n",
    "md = ColumnarModelData.from_data_frame(\n",
    "    path=PATH, val_idxs=val_idx, df=X, y=y, cat_flds=vars_cat, bs=128,\n",
    "    is_reg=True, test_df=X_test)"
   ]
  },
  {
   "cell_type": "code",
   "execution_count": 12,
   "metadata": {},
   "outputs": [],
   "source": [
    "# create learner\n",
    "m = md.get_learner(\n",
    "    emb_szs=sz_emb, n_cont=len(df_train.columns)-len(vars_cat),\n",
    "    emb_drop=0.1, out_sz=1, szs=[1000,500], drops=[0.01,0.1], y_range=(0,1))"
   ]
  },
  {
   "cell_type": "code",
   "execution_count": 13,
   "metadata": {},
   "outputs": [
    {
     "data": {
      "application/vnd.jupyter.widget-view+json": {
       "model_id": "9e732484bc2f41268d004858d20d959e",
       "version_major": 2,
       "version_minor": 0
      },
      "text/html": [
       "<p>Failed to display Jupyter Widget of type <code>HBox</code>.</p>\n",
       "<p>\n",
       "  If you're reading this message in the Jupyter Notebook or JupyterLab Notebook, it may mean\n",
       "  that the widgets JavaScript is still loading. If this message persists, it\n",
       "  likely means that the widgets JavaScript library is either not installed or\n",
       "  not enabled. See the <a href=\"https://ipywidgets.readthedocs.io/en/stable/user_install.html\">Jupyter\n",
       "  Widgets Documentation</a> for setup instructions.\n",
       "</p>\n",
       "<p>\n",
       "  If you're reading this message in another frontend (for example, a static\n",
       "  rendering on GitHub or <a href=\"https://nbviewer.jupyter.org/\">NBViewer</a>),\n",
       "  it may mean that your frontend doesn't currently support widgets.\n",
       "</p>\n"
      ],
      "text/plain": [
       "HBox(children=(IntProgress(value=0, description='Epoch', max=1), HTML(value='')))"
      ]
     },
     "metadata": {},
     "output_type": "display_data"
    },
    {
     "name": "stdout",
     "output_type": "stream",
     "text": [
      " 83%|████████▎ | 7295/8810 [01:10<00:14, 102.98it/s, loss=0.218] "
     ]
    }
   ],
   "source": [
    "m.lr_find()"
   ]
  },
  {
   "cell_type": "code",
   "execution_count": 14,
   "metadata": {},
   "outputs": [
    {
     "data": {
      "image/png": "[encoded data removed]",
      "text/plain": [
       "<Figure size 432x288 with 1 Axes>"
      ]
     },
     "metadata": {},
     "output_type": "display_data"
    }
   ],
   "source": [
    "m.sched.plot(n_skip=0, n_skip_end=0)"
   ]
  },
  {
   "cell_type": "code",
   "execution_count": 24,
   "metadata": {},
   "outputs": [],
   "source": [
    "lr = 0.00015"
   ]
  },
  {
   "cell_type": "code",
   "execution_count": 25,
   "metadata": {},
   "outputs": [],
   "source": [
    "from sklearn.metrics import mean_squared_error\n",
    "from math import sqrt\n",
    "\n",
    "# define error term\n",
    "def rmse(y_pred, targ):\n",
    "    out = sqrt(mean_squared_error(targ, y_pred))\n",
    "    return out"
   ]
  },
  {
   "cell_type": "code",
   "execution_count": 26,
   "metadata": {},
   "outputs": [
    {
     "data": {
      "application/vnd.jupyter.widget-view+json": {
       "model_id": "7075c722848942cf87aef8e735a9a015",
       "version_major": 2,
       "version_minor": 0
      },
      "text/html": [
       "<p>Failed to display Jupyter Widget of type <code>HBox</code>.</p>\n",
       "<p>\n",
       "  If you're reading this message in the Jupyter Notebook or JupyterLab Notebook, it may mean\n",
       "  that the widgets JavaScript is still loading. If this message persists, it\n",
       "  likely means that the widgets JavaScript library is either not installed or\n",
       "  not enabled. See the <a href=\"https://ipywidgets.readthedocs.io/en/stable/user_install.html\">Jupyter\n",
       "  Widgets Documentation</a> for setup instructions.\n",
       "</p>\n",
       "<p>\n",
       "  If you're reading this message in another frontend (for example, a static\n",
       "  rendering on GitHub or <a href=\"https://nbviewer.jupyter.org/\">NBViewer</a>),\n",
       "  it may mean that your frontend doesn't currently support widgets.\n",
       "</p>\n"
      ],
      "text/plain": [
       "HBox(children=(IntProgress(value=0, description='Epoch', max=3), HTML(value='')))"
      ]
     },
     "metadata": {},
     "output_type": "display_data"
    },
    {
     "name": "stdout",
     "output_type": "stream",
     "text": [
      "epoch      trn_loss   val_loss   rmse                            \n",
      "    0      0.052095   0.052889   0.229488  \n",
      "    1      0.052249   0.052841   0.22938                         \n",
      "    2      0.051214   0.052874   0.229457                        \n",
      "\n"
     ]
    },
    {
     "data": {
      "text/plain": [
       "[array([0.05287]), 0.22945686451361483]"
      ]
     },
     "execution_count": 26,
     "metadata": {},
     "output_type": "execute_result"
    }
   ],
   "source": [
    "m.fit(lrs=lr, n_cycle=3, cycle_len=1, metrics=[rmse])"
   ]
  },
  {
   "cell_type": "code",
   "execution_count": 27,
   "metadata": {},
   "outputs": [
    {
     "data": {
      "text/plain": [
       "0.22994400350856303"
      ]
     },
     "execution_count": 27,
     "metadata": {},
     "output_type": "execute_result"
    }
   ],
   "source": [
    "# get final RMSE on holdout data\n",
    "x,y = m.predict_with_targs()\n",
    "rmse(x,y)"
   ]
  },
  {
   "cell_type": "code",
   "execution_count": 28,
   "metadata": {},
   "outputs": [],
   "source": [
    "m.save('val04')"
   ]
  },
  {
   "cell_type": "code",
   "execution_count": null,
   "metadata": {},
   "outputs": [],
   "source": [
    "# df_test = pd.read_csv(f'{PATH}test.csv')"
   ]
  },
  {
   "cell_type": "markdown",
   "metadata": {},
   "source": [
    "### Submission\n",
    "Produce expected output format and submit to kaggle"
   ]
  },
  {
   "cell_type": "code",
   "execution_count": 29,
   "metadata": {},
   "outputs": [],
   "source": [
    "pred_test = m.predict(is_test=True)"
   ]
  },
  {
   "cell_type": "code",
   "execution_count": 30,
   "metadata": {},
   "outputs": [],
   "source": [
    "df_test_original = pd.read_csv(f'{PATH}test.csv')"
   ]
  },
  {
   "cell_type": "code",
   "execution_count": 31,
   "metadata": {},
   "outputs": [],
   "source": [
    "# produce output\n",
    "out = pd.DataFrame(\n",
    "    data={\n",
    "        'item_id': df_test_original.item_id,\n",
    "        'deal_probability': pred_test[:,0]})\n",
    "# reorder columns\n",
    "out = out[['item_id','deal_probability']]"
   ]
  },
  {
   "cell_type": "code",
   "execution_count": 32,
   "metadata": {},
   "outputs": [],
   "source": [
    "out.to_csv('~/avito/out/submission004.csv', index=False)"
   ]
  },
  {
   "cell_type": "code",
   "execution_count": 33,
   "metadata": {},
   "outputs": [
    {
     "name": "stdout",
     "output_type": "stream",
     "text": [
      "item_id,deal_probability\r\n",
      "6544e41a8817,0.055866085\r\n",
      "65b9484d670f,0.081489615\r\n",
      "8bab230b2ecd,0.054549024\r\n",
      "8e348601fefc,0.15958658\r\n",
      "8bd2fe400b89,0.12590027\r\n",
      "c63dbd6c657f,0.10796416\r\n",
      "6d1a410df86e,0.022989979\r\n",
      "e8d3e7922b80,0.035282306\r\n",
      "2bc1ab208462,0.035701673\r\n"
     ]
    }
   ],
   "source": [
    "!head ~/avito/out/submission004.csv"
   ]
  },
  {
   "cell_type": "code",
   "execution_count": 35,
   "metadata": {},
   "outputs": [
    {
     "name": "stdout",
     "output_type": "stream",
     "text": [
      "Successfully submitted to Avito Demand Prediction Challenge"
     ]
    }
   ],
   "source": [
    "!kaggle competitions submit -c avito-demand-prediction -f ~/avito/out/submission004.csv -m ann3_correct-y"
   ]
  },
  {
   "cell_type": "code",
   "execution_count": 37,
   "metadata": {},
   "outputs": [
    {
     "name": "stdout",
     "output_type": "stream",
     "text": [
      "Successfully submitted to Avito Demand Prediction Challenge"
     ]
    }
   ],
   "source": [
    "!kaggle competitions submit -c avito-demand-prediction -f ~/data/avito-demand-prediction/sample_submission.csv -m sample_submission"
   ]
  }
 ],
 "metadata": {
  "kernelspec": {
   "display_name": "Python 3",
   "language": "python",
   "name": "python3"
  },
  "language_info": {
   "codemirror_mode": {
    "name": "ipython",
    "version": 3
   },
   "file_extension": ".py",
   "mimetype": "text/x-python",
   "name": "python",
   "nbconvert_exporter": "python",
   "pygments_lexer": "ipython3",
   "version": "3.6.4"
  }
 },
 "nbformat": 4,
 "nbformat_minor": 2
}
