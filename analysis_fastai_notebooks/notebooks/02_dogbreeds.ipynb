{
 "cells": [
  {
   "cell_type": "code",
   "execution_count": 1,
   "metadata": {},
   "outputs": [],
   "source": [
    "# Put these at the top of every notebook, to get automatic reloading and inline plotting\n",
    "%reload_ext autoreload\n",
    "%autoreload 2\n",
    "%matplotlib inline"
   ]
  },
  {
   "cell_type": "code",
   "execution_count": 2,
   "metadata": {},
   "outputs": [],
   "source": [
    "from fastai.imports import *\n",
    "\n",
    "from fastai.transforms import *\n",
    "from fastai.conv_learner import *\n",
    "from fastai.model import *\n",
    "from fastai.dataset import *\n",
    "from fastai.sgdr import *\n",
    "from fastai.plots import *\n",
    "\n",
    "PATH = \"data/dogbreeds/\"\n",
    "arch = resnext50\n",
    "sz = 299\n",
    "bs = 28"
   ]
  },
  {
   "cell_type": "code",
   "execution_count": 3,
   "metadata": {},
   "outputs": [],
   "source": [
    "# Set up transformation, trainig data, and model architecture\n",
    "tfms = tfms_from_model(\n",
    "    arch, \n",
    "    sz, \n",
    "    aug_tfms=transforms_side_on, \n",
    "    max_zoom=1.1)\n",
    "data = ImageClassifierData.from_csv(\n",
    "    PATH, \n",
    "    folder='train', \n",
    "    csv_fname=PATH + 'labels.csv', \n",
    "    suffix='.jpg',\n",
    "    tfms=tfms, \n",
    "    bs=bs, \n",
    "    num_workers=4,\n",
    "    test_name='test')\n",
    "learn = ConvLearner.pretrained(\n",
    "    arch, \n",
    "    data, \n",
    "    precompute=True, \n",
    "    ps=0.5)"
   ]
  },
  {
   "cell_type": "code",
   "execution_count": 4,
   "metadata": {},
   "outputs": [],
   "source": [
    "img = PIL.Image.open(PATH + data.trn_ds.fnames[0])"
   ]
  },
  {
   "cell_type": "code",
   "execution_count": 5,
   "metadata": {},
   "outputs": [
    {
     "data": {
      "text/plain": [
       "(500, 375)"
      ]
     },
     "execution_count": 5,
     "metadata": {},
     "output_type": "execute_result"
    }
   ],
   "source": [
    "img.size"
   ]
  },
  {
   "cell_type": "code",
   "execution_count": 6,
   "metadata": {},
   "outputs": [
    {
     "data": {
      "application/vnd.jupyter.widget-view+json": {
       "model_id": "7eb5c45c614c480c9630d540794fbfec",
       "version_major": 2,
       "version_minor": 0
      },
      "text/html": [
       "<p>Failed to display Jupyter Widget of type <code>HBox</code>.</p>\n",
       "<p>\n",
       "  If you're reading this message in the Jupyter Notebook or JupyterLab Notebook, it may mean\n",
       "  that the widgets JavaScript is still loading. If this message persists, it\n",
       "  likely means that the widgets JavaScript library is either not installed or\n",
       "  not enabled. See the <a href=\"https://ipywidgets.readthedocs.io/en/stable/user_install.html\">Jupyter\n",
       "  Widgets Documentation</a> for setup instructions.\n",
       "</p>\n",
       "<p>\n",
       "  If you're reading this message in another frontend (for example, a static\n",
       "  rendering on GitHub or <a href=\"https://nbviewer.jupyter.org/\">NBViewer</a>),\n",
       "  it may mean that your frontend doesn't currently support widgets.\n",
       "</p>\n"
      ],
      "text/plain": [
       "HBox(children=(IntProgress(value=0, description='Epoch', max=1), HTML(value='')))"
      ]
     },
     "metadata": {},
     "output_type": "display_data"
    },
    {
     "name": "stdout",
     "output_type": "stream",
     "text": [
      " 84%|████████▍ | 247/293 [00:05<00:00, 46.59it/s, loss=11.8]\n",
      "                                                            \r"
     ]
    },
    {
     "data": {
      "image/png": "[encoded data removed]",
      "text/plain": [
       "<Figure size 432x288 with 1 Axes>"
      ]
     },
     "metadata": {},
     "output_type": "display_data"
    }
   ],
   "source": [
    "lrf = learn.lr_find()\n",
    "learn.sched.plot()"
   ]
  },
  {
   "cell_type": "code",
   "execution_count": null,
   "metadata": {},
   "outputs": [],
   "source": [
    "#learn.fit(1e-2, 6, cycle_len=1)"
   ]
  },
  {
   "cell_type": "markdown",
   "metadata": {},
   "source": [
    "## Differential learning rates"
   ]
  },
  {
   "cell_type": "code",
   "execution_count": 7,
   "metadata": {},
   "outputs": [],
   "source": [
    "learn.unfreeze()\n",
    "lr = np.array([1e-4, 1e-3, 1e-2])"
   ]
  },
  {
   "cell_type": "code",
   "execution_count": 8,
   "metadata": {},
   "outputs": [
    {
     "data": {
      "application/vnd.jupyter.widget-view+json": {
       "model_id": "3ab4758a130642e8900f77d61788cbec",
       "version_major": 2,
       "version_minor": 0
      },
      "text/html": [
       "<p>Failed to display Jupyter Widget of type <code>HBox</code>.</p>\n",
       "<p>\n",
       "  If you're reading this message in the Jupyter Notebook or JupyterLab Notebook, it may mean\n",
       "  that the widgets JavaScript is still loading. If this message persists, it\n",
       "  likely means that the widgets JavaScript library is either not installed or\n",
       "  not enabled. See the <a href=\"https://ipywidgets.readthedocs.io/en/stable/user_install.html\">Jupyter\n",
       "  Widgets Documentation</a> for setup instructions.\n",
       "</p>\n",
       "<p>\n",
       "  If you're reading this message in another frontend (for example, a static\n",
       "  rendering on GitHub or <a href=\"https://nbviewer.jupyter.org/\">NBViewer</a>),\n",
       "  it may mean that your frontend doesn't currently support widgets.\n",
       "</p>\n"
      ],
      "text/plain": [
       "HBox(children=(IntProgress(value=0, description='Epoch', max=31), HTML(value='')))"
      ]
     },
     "metadata": {},
     "output_type": "display_data"
    },
    {
     "name": "stdout",
     "output_type": "stream",
     "text": [
      "epoch      trn_loss   val_loss   accuracy                   \n",
      "    0      1.147588   0.568817   0.876712  \n",
      "    1      0.617068   0.32264    0.903131                    \n",
      "    2      0.533982   0.312072   0.907534                    \n",
      "    3      0.503522   0.356167   0.891389                    \n",
      "    4      0.37357    0.28185    0.907534                    \n",
      "    5      0.424724   0.260654   0.912916                    \n",
      "    6      0.333101   0.259631   0.90998                     \n",
      "    7      0.363925   0.315921   0.891389                    \n",
      "    8      0.337362   0.270972   0.907534                    \n",
      "    9      0.269288   0.271718   0.912427                    \n",
      "    10     0.290392   0.270236   0.907045                    \n",
      "    11     0.227667   0.258253   0.912427                    \n",
      "    12     0.221249   0.255886   0.90998                     \n",
      "    13     0.251357   0.263641   0.908513                    \n",
      "    14     0.236734   0.258107   0.909491                    \n",
      "    15     0.304952   0.295056   0.901174                    \n",
      "    16     0.284302   0.288653   0.899706                    \n",
      "    17     0.251306   0.29017    0.905088                    \n",
      "    18     0.249059   0.305339   0.89726                     \n",
      "    19     0.219238   0.272377   0.90998                     \n",
      "    20     0.239189   0.272749   0.902642                    \n",
      "    21     0.207495   0.275015   0.90998                     \n",
      "    22     0.178929   0.277942   0.906067                    \n",
      "    23     0.180761   0.26506    0.91683                     \n",
      "    24     0.193919   0.269042   0.913405                    \n",
      "    25     0.230403   0.267758   0.915851                    \n",
      "    26     0.176833   0.263398   0.916341                    \n",
      "    27     0.160119   0.265145   0.916341                    \n",
      "    28     0.170172   0.269365   0.912916                    \n",
      "    29     0.147054   0.261687   0.91683                     \n",
      "    30     0.147885   0.267766   0.916341                    \n",
      "\n"
     ]
    },
    {
     "data": {
      "text/plain": [
       "[0.26776594, 0.9163405046071091]"
      ]
     },
     "execution_count": 8,
     "metadata": {},
     "output_type": "execute_result"
    }
   ],
   "source": [
    "learn.fit(lr, 5, cycle_len=1, cycle_mult=2)"
   ]
  },
  {
   "cell_type": "code",
   "execution_count": 12,
   "metadata": {},
   "outputs": [],
   "source": [
    "learn.save('dogbreed_299_3lastlayers')"
   ]
  },
  {
   "cell_type": "code",
   "execution_count": null,
   "metadata": {},
   "outputs": [],
   "source": [
    "\n"
   ]
  },
  {
   "cell_type": "code",
   "execution_count": null,
   "metadata": {},
   "outputs": [],
   "source": []
  },
  {
   "cell_type": "markdown",
   "metadata": {},
   "source": [
    "## Predict on test set"
   ]
  },
  {
   "cell_type": "code",
   "execution_count": 11,
   "metadata": {},
   "outputs": [],
   "source": [
    "# Predictions for test dataset\n",
    "preds = np.exp(learn.predict(is_test=True))"
   ]
  },
  {
   "cell_type": "code",
   "execution_count": 13,
   "metadata": {},
   "outputs": [],
   "source": [
    "# Filenames of test data\n",
    "files_test = [x.split(\"/\")[1].split(\".\")[0] for x in data.test_dl.dataset.fnames]\n",
    "# Sample submission kaggle\n",
    "submission = pd.read_csv('/home/paperspace/data/dogbreeds/sample_submission.csv')"
   ]
  },
  {
   "cell_type": "code",
   "execution_count": 14,
   "metadata": {},
   "outputs": [],
   "source": [
    "submission['id'] = files_test\n",
    "submission.iloc[:,1:] = preds"
   ]
  },
  {
   "cell_type": "code",
   "execution_count": 17,
   "metadata": {},
   "outputs": [],
   "source": [
    "submission.to_csv('~/wd/dogbreeds/submission2.csv', index=False)"
   ]
  },
  {
   "cell_type": "code",
   "execution_count": 18,
   "metadata": {},
   "outputs": [
    {
     "name": "stdout",
     "output_type": "stream",
     "text": [
      "[Errno 2] No such file or directory: 'submission2.csv'\r\n"
     ]
    }
   ],
   "source": [
    "!cd ~/wd/dogbreeds/\n",
    "!kg submit submission2.csv"
   ]
  },
  {
   "cell_type": "code",
   "execution_count": null,
   "metadata": {},
   "outputs": [],
   "source": [
    "#0.24222"
   ]
  },
  {
   "cell_type": "code",
   "execution_count": null,
   "metadata": {},
   "outputs": [],
   "source": []
  }
 ],
 "metadata": {
  "kernelspec": {
   "display_name": "Python 3",
   "language": "python",
   "name": "python3"
  },
  "language_info": {
   "codemirror_mode": {
    "name": "ipython",
    "version": 3
   },
   "file_extension": ".py",
   "mimetype": "text/x-python",
   "name": "python",
   "nbconvert_exporter": "python",
   "pygments_lexer": "ipython3",
   "version": "3.6.4"
  }
 },
 "nbformat": 4,
 "nbformat_minor": 2
}
