{
 "cells": [
  {
   "cell_type": "code",
   "execution_count": 1,
   "metadata": {},
   "outputs": [
    {
     "ename": "ModuleNotFoundError",
     "evalue": "No module named 'pathfinding'",
     "output_type": "error",
     "traceback": [
      "\u001b[0;31m---------------------------------------------------------------------------\u001b[0m",
      "\u001b[0;31mModuleNotFoundError\u001b[0m                       Traceback (most recent call last)",
      "\u001b[0;32m<ipython-input-1-25af8da6cad2>\u001b[0m in \u001b[0;36m<module>\u001b[0;34m()\u001b[0m\n\u001b[1;32m      1\u001b[0m \u001b[0;32mimport\u001b[0m \u001b[0mdatetime\u001b[0m\u001b[0;34m\u001b[0m\u001b[0m\n\u001b[0;32m----> 2\u001b[0;31m \u001b[0;32mimport\u001b[0m \u001b[0mpathfinding\u001b[0m\u001b[0;34m\u001b[0m\u001b[0m\n\u001b[0m\u001b[1;32m      3\u001b[0m \u001b[0;32mfrom\u001b[0m \u001b[0mpathfinding\u001b[0m\u001b[0;34m.\u001b[0m\u001b[0mcore\u001b[0m\u001b[0;34m.\u001b[0m\u001b[0mdiagonal_movement\u001b[0m \u001b[0;32mimport\u001b[0m \u001b[0mDiagonalMovement\u001b[0m\u001b[0;34m\u001b[0m\u001b[0m\n\u001b[1;32m      4\u001b[0m \u001b[0;32mfrom\u001b[0m \u001b[0mpathfinding\u001b[0m\u001b[0;34m.\u001b[0m\u001b[0mcore\u001b[0m\u001b[0;34m.\u001b[0m\u001b[0mgrid\u001b[0m \u001b[0;32mimport\u001b[0m \u001b[0mGrid\u001b[0m\u001b[0;34m\u001b[0m\u001b[0m\n\u001b[1;32m      5\u001b[0m \u001b[0;32mfrom\u001b[0m \u001b[0mpathfinding\u001b[0m\u001b[0;34m.\u001b[0m\u001b[0mfinder\u001b[0m\u001b[0;34m.\u001b[0m\u001b[0ma_star\u001b[0m \u001b[0;32mimport\u001b[0m \u001b[0mAStarFinder\u001b[0m\u001b[0;34m\u001b[0m\u001b[0m\n",
      "\u001b[0;31mModuleNotFoundError\u001b[0m: No module named 'pathfinding'"
     ]
    }
   ],
   "source": [
    "import datetime\n",
    "import pathfinding\n",
    "from pathfinding.core.diagonal_movement import DiagonalMovement\n",
    "from pathfinding.core.grid import Grid\n",
    "from pathfinding.finder.a_star import AStarFinder\n",
    "\n",
    "import numpy, datetime\n",
    "\n",
    "cities = [\n",
    " (1, 84, 203),\n",
    " (2, 199, 371),\n",
    " (3, 140, 234),\n",
    " (4, 236, 241),\n",
    " (5, 315, 281),\n",
    " (6, 358, 207),\n",
    " (7, 363, 237),\n",
    " (8, 423, 266),\n",
    " (9, 125, 375),\n",
    " (10, 189, 274)\n",
    "]\n",
    "\n",
    "balloons = 10\n",
    "\n",
    "previsions = numpy.load('5D_test.npy')\n",
    "\n",
    "for i in range(18):\n",
    "    for j in range(548):\n",
    "        for k in range(421):\n",
    "            if previsions[i][j][k] >= 0.5:\n",
    "                previsions[i][j][k] = 1\n",
    "            else:\n",
    "                previsions[i][j][k] = 0\n",
    "\n",
    "start = [142, 328]\n",
    "\n",
    "counter = 0"
   ]
  },
  {
   "cell_type": "code",
   "execution_count": 3,
   "metadata": {},
   "outputs": [
    {
     "ename": "NameError",
     "evalue": "name 'datetime' is not defined",
     "output_type": "error",
     "traceback": [
      "\u001b[0;31m---------------------------------------------------------------------------\u001b[0m",
      "\u001b[0;31mNameError\u001b[0m                                 Traceback (most recent call last)",
      "\u001b[0;32m<ipython-input-3-1f69797b6bfc>\u001b[0m in \u001b[0;36m<module>\u001b[0;34m()\u001b[0m\n\u001b[1;32m      3\u001b[0m         \u001b[0msteps\u001b[0m \u001b[0;34m=\u001b[0m \u001b[0;36m0\u001b[0m\u001b[0;34m\u001b[0m\u001b[0m\n\u001b[1;32m      4\u001b[0m         \u001b[0msubmission\u001b[0m \u001b[0;34m=\u001b[0m \u001b[0mopen\u001b[0m\u001b[0;34m(\u001b[0m\u001b[0;34m'submission'\u001b[0m\u001b[0;34m,\u001b[0m \u001b[0;34m'w'\u001b[0m\u001b[0;34m)\u001b[0m\u001b[0;34m\u001b[0m\u001b[0m\n\u001b[0;32m----> 5\u001b[0;31m         \u001b[0mstarting_time\u001b[0m \u001b[0;34m=\u001b[0m \u001b[0mdatetime\u001b[0m\u001b[0;34m.\u001b[0m\u001b[0mdatetime\u001b[0m\u001b[0;34m.\u001b[0m\u001b[0mstrptime\u001b[0m\u001b[0;34m(\u001b[0m\u001b[0;34m'03:00'\u001b[0m\u001b[0;34m,\u001b[0m \u001b[0;34m'%H:%M'\u001b[0m\u001b[0;34m)\u001b[0m\u001b[0;34m.\u001b[0m\u001b[0mtimestamp\u001b[0m\u001b[0;34m(\u001b[0m\u001b[0;34m)\u001b[0m\u001b[0;34m\u001b[0m\u001b[0m\n\u001b[0m\u001b[1;32m      6\u001b[0m         \u001b[0;32mfor\u001b[0m \u001b[0mi\u001b[0m \u001b[0;32min\u001b[0m \u001b[0mrange\u001b[0m\u001b[0;34m(\u001b[0m\u001b[0;36m18\u001b[0m\u001b[0;34m)\u001b[0m\u001b[0;34m:\u001b[0m\u001b[0;34m\u001b[0m\u001b[0m\n\u001b[1;32m      7\u001b[0m             \u001b[0;32mtry\u001b[0m\u001b[0;34m:\u001b[0m\u001b[0;34m\u001b[0m\u001b[0m\n",
      "\u001b[0;31mNameError\u001b[0m: name 'datetime' is not defined"
     ]
    }
   ],
   "source": [
    "for day in range(5):\n",
    "    for balloon in range(10):\n",
    "        steps = 0\n",
    "        submission = open('submission', 'w')\n",
    "        starting_time = datetime.datetime.strptime('03:00', '%H:%M').timestamp()\n",
    "        for i in range(18):\n",
    "            try:\n",
    "                matrix = previsions[i].tolist()\n",
    "                grid = Grid(matrix=matrix)\n",
    "\n",
    "                tmp_start = grid.node(start[0], start[1])\n",
    "                tmp_end = grid.node(cities[balloon][1], cities[balloon][2])\n",
    "\n",
    "                finder = AStarFinder(diagonal_movement=DiagonalMovement.never)\n",
    "                path, runs = finder.find_path(tmp_start, tmp_end, grid)\n",
    "\n",
    "\n",
    "                if (len(path) == 0):\n",
    "                    break\n",
    "\n",
    "                path = path[0:30]\n",
    "\n",
    "                start = (path[-1][0], path[-1][1])\n",
    "\n",
    "                steps = steps + len(path)\n",
    "\n",
    "\n",
    "                for idx, g in enumerate(path):\n",
    "                    time = (datetime.datetime.fromtimestamp(starting_time)).strftime('%H:%M')\n",
    "                    submission.write(str(cities[balloon][0]) + ',' + str(day+6) + ',' + time + ',' + str(g[0]) + ',' + str(g[1]) + '\\n')\n",
    "                    starting_time = starting_time + 120\n",
    "            except:\n",
    "                pass"
   ]
  },
  {
   "cell_type": "code",
   "execution_count": null,
   "metadata": {
    "collapsed": true
   },
   "outputs": [],
   "source": []
  }
 ],
 "metadata": {
  "kernelspec": {
   "display_name": "Python 3",
   "language": "python",
   "name": "python3"
  },
  "language_info": {
   "codemirror_mode": {
    "name": "ipython",
    "version": 3
   },
   "file_extension": ".py",
   "mimetype": "text/x-python",
   "name": "python",
   "nbconvert_exporter": "python",
   "pygments_lexer": "ipython3",
   "version": "3.6.1"
  }
 },
 "nbformat": 4,
 "nbformat_minor": 2
}
